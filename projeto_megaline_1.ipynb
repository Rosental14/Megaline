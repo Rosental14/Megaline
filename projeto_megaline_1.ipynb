{
 "cells": [
  {
   "cell_type": "markdown",
   "metadata": {},
   "source": [
    "<CENTER>\n",
    "    \n",
    "    \n",
    "# MEGALINE #"
   ]
  },
  {
   "cell_type": "markdown",
   "metadata": {},
   "source": [
    "**Descrição do projeto:**\n",
    "\n",
    "A operadora de celular Megaline está insatisfeita com o fato de muitos de seus clientes estarem usando planos antigos. A empresa quer desenvolver um modelo que possa analisar o comportamento do cliente e recomendar um dos planos mais recentes da Megaline: **Smart ou Ultra**.\n",
    "\n",
    "Temos acesso aos dados de comportamento dos clientes que já mudaram para os novos planos. Para essa tarefa de classificação, iremos desenvolver um modelo que escolhe o plano certo. Como os dados já passaram pela etapa de pré-processamento de dados, iremos direto para etapa da criação do modelo.\n",
    "\n",
    "Iremos desenvolver um modelo com a maior acurácia possível, verificando-a com o conjunto de dados de teste. Neste projeto, o limite mínimo para acurácia é de 0.75"
   ]
  },
  {
   "cell_type": "markdown",
   "metadata": {},
   "source": [
    "## ETAPAS INICIAIS ##"
   ]
  },
  {
   "cell_type": "markdown",
   "metadata": {},
   "source": [
    "**Nesta etapa, iremos:**\n",
    "\n",
    "* importar as bibliotecas necessárias para o trabalho;\n",
    "* abrir o DataFrame e imprimir as primeiras linhas para termos um panorama geral dos dados;\n",
    "* verificar as informações gerais do DataFrame."
   ]
  },
  {
   "cell_type": "code",
   "execution_count": 5,
   "metadata": {},
   "outputs": [],
   "source": [
    "# Importando as bibliotecas necessárias\n",
    "\n",
    "import pandas as pd\n",
    "import numpy as np\n",
    "import time\n",
    "from sklearn.model_selection import train_test_split\n",
    "from sklearn.metrics import accuracy_score\n",
    "from sklearn.metrics import mean_squared_error\n",
    "from sklearn.tree import DecisionTreeClassifier\n",
    "from sklearn.ensemble import RandomForestClassifier\n",
    "from sklearn.linear_model import LogisticRegression"
   ]
  },
  {
   "cell_type": "code",
   "execution_count": 6,
   "metadata": {},
   "outputs": [
    {
     "name": "stdout",
     "output_type": "stream",
     "text": [
      "   calls  minutes  messages   mb_used  is_ultra\n",
      "0   40.0   311.90      83.0  19915.42         0\n",
      "1   85.0   516.75      56.0  22696.96         0\n",
      "2   77.0   467.66      86.0  21060.45         0\n",
      "3  106.0   745.53      81.0   8437.39         1\n",
      "4   66.0   418.74       1.0  14502.75         0\n"
     ]
    }
   ],
   "source": [
    "# Abrindo o arquivo de dados e imprimindo as 5 primeiras linhas para avaliação\n",
    "users_behavior = pd.read_csv('./datasets/users_behavior.csv')\n",
    "\n",
    "print(users_behavior.head(5))"
   ]
  },
  {
   "cell_type": "code",
   "execution_count": 7,
   "metadata": {},
   "outputs": [
    {
     "name": "stdout",
     "output_type": "stream",
     "text": [
      "<class 'pandas.core.frame.DataFrame'>\n",
      "RangeIndex: 3214 entries, 0 to 3213\n",
      "Data columns (total 5 columns):\n",
      " #   Column    Non-Null Count  Dtype  \n",
      "---  ------    --------------  -----  \n",
      " 0   calls     3214 non-null   float64\n",
      " 1   minutes   3214 non-null   float64\n",
      " 2   messages  3214 non-null   float64\n",
      " 3   mb_used   3214 non-null   float64\n",
      " 4   is_ultra  3214 non-null   int64  \n",
      "dtypes: float64(4), int64(1)\n",
      "memory usage: 125.7 KB\n",
      "None\n"
     ]
    }
   ],
   "source": [
    "# Imprimindo as informações do DataFrame para conferência \n",
    "print(users_behavior.info())"
   ]
  },
  {
   "cell_type": "markdown",
   "metadata": {},
   "source": [
    "## DIVISÃO DOS DADOS ##"
   ]
  },
  {
   "cell_type": "markdown",
   "metadata": {},
   "source": [
    "**Nesta etapa dividiremos os dados de origem em um conjunto de treinamento, um conjunto de validação e um conjunto de teste.**\n",
    "\n",
    "Como o conjunto de teste não existe, dividiremos em 3 partes da seguinte forma: 80:10:10 para treino, validação e teste respectivamente."
   ]
  },
  {
   "cell_type": "code",
   "execution_count": 8,
   "metadata": {},
   "outputs": [
    {
     "name": "stdout",
     "output_type": "stream",
     "text": [
      "(2571, 4)\n",
      "(2571,)\n",
      "(321, 4)\n",
      "(321,)\n",
      "(322, 4)\n",
      "(322,)\n"
     ]
    }
   ],
   "source": [
    "# Definindo as colunas de características e de objetivo\n",
    "features = users_behavior.drop(['is_ultra'], axis = 1)\n",
    "target = users_behavior['is_ultra']\n",
    "\n",
    "# Na primeira etapa, dividiremos os dados em \"treinamento\" e \"conjunto de dados restantes\" \n",
    "features_train, features_remain, target_train, target_remain = train_test_split(features, target, train_size=0.8, random_state = 14)\n",
    "\n",
    "# Agora, queremos que os tamanhos dos conjuntos de validação e teste sejam iguais (20% de cada um dos dados gerais) \n",
    "# Portanto, vamos definir test_size que represente 50% dos dados restantes (dividir os dados restantes no meio)\n",
    "features_valid, features_test, target_valid, target_test = train_test_split(features_remain, target_remain, test_size=0.5, random_state = 14)\n",
    "\n",
    "print(features_train.shape)\n",
    "print(target_train.shape)\n",
    "print(features_valid.shape)\n",
    "print(target_valid.shape)\n",
    "print(features_test.shape)\n",
    "print(target_test.shape)"
   ]
  },
  {
   "cell_type": "markdown",
   "metadata": {},
   "source": [
    "## ESTUDO DO MELHOR MODELO ##"
   ]
  },
  {
   "cell_type": "markdown",
   "metadata": {},
   "source": [
    "Nesta etapa, iremos testar vários modelos para avaliar qual deles tem o melhor desempenho com o nosso conjunto de dados. Como estamos lidando com um objetivo que possui dados categóricos, utilizaremos modelos de **classificação**, sendo:\n",
    "\n",
    "* Árvore de Decisão;\n",
    "* Floresta Aleatória;\n",
    "* Regressão Logística\n",
    "\n",
    "**Para esta avaliação, utilizaremos a acurácia como métrica, mas também precisamos considerar o tempo de execução do código, pois isso incorre em maiores custos computacionais e também interfere na experiência do usuário.**"
   ]
  },
  {
   "cell_type": "markdown",
   "metadata": {},
   "source": [
    "### Árvore de Decisão: ###"
   ]
  },
  {
   "cell_type": "code",
   "execution_count": 9,
   "metadata": {},
   "outputs": [
    {
     "name": "stdout",
     "output_type": "stream",
     "text": [
      "Acurácia do melhor modelo de árvore decisória (max_depth = 10, criterion = gini e min_samples_leaf = 7) é: 0.8317757009345794\n",
      "\n",
      "Tempo de execução: 3.1558964252471924 segundos\n"
     ]
    }
   ],
   "source": [
    "# Usaremos a função time() para medirmos o tempo em segundos para a execução do código.\n",
    "# Basta registrar o tempo antes e depois da execução do código e calcular a diferença para obter o tempo de execução.\n",
    "\n",
    "# iniciando o registro de tempo de execução do código\n",
    "start_tree = time.time()\n",
    "\n",
    "\n",
    "# criando as variáveis para comparação do melhor modelo de Árvore no ciclo for:\n",
    "best_score_tree = 0\n",
    "best_depth = 0\n",
    "best_criterion = None\n",
    "best_min_samples_leaf = 0\n",
    "\n",
    "\n",
    "for criterion in ['gini', 'entropy']: # testando melhor criterio para o modelo\n",
    "    for leaf in range(1, 11): # testando melhor número de amostras por folha para o modelo\n",
    "        for depth in range(1, 11): # testando melhor hiperparâmetro de profundidade máxima para o modelo\n",
    "            model_tree = DecisionTreeClassifier(min_samples_leaf = leaf, max_depth = depth, criterion = criterion, random_state = 14)\n",
    "            model_tree.fit(features_train, target_train) # treinando o modelo com os dados de treinamento\n",
    "            score_tree = model_tree.score(features_valid, target_valid) # calculando a Acurácia com os dados de validação\n",
    "    \n",
    "        # comparando os modelos para definir os melhores hiperparâmetros\n",
    "            if score_tree > best_score_tree:\n",
    "                best_score_tree = score_tree\n",
    "                best_depth = depth\n",
    "                best_criterion = criterion\n",
    "                best_min_samples_leaf = leaf\n",
    "    \n",
    "print(\"Acurácia do melhor modelo de árvore decisória (max_depth = {}, criterion = {} e min_samples_leaf = {}) é: {}\"\n",
    "      .format(best_depth, best_criterion, best_min_samples_leaf, best_score_tree))\n",
    "print()\n",
    "\n",
    "\n",
    "# finalizando o registro de tempo de execução do código\n",
    "end_tree = time.time()\n",
    "\n",
    "# imprimindo o tempo de execução em segundos\n",
    "print('Tempo de execução:', end_tree - start_tree, 'segundos')"
   ]
  },
  {
   "cell_type": "markdown",
   "metadata": {},
   "source": [
    "### Floresta Aleatória: ###"
   ]
  },
  {
   "cell_type": "code",
   "execution_count": 10,
   "metadata": {},
   "outputs": [
    {
     "name": "stdout",
     "output_type": "stream",
     "text": [
      "Acurácia do melhor modelo de floresta aleatória (max_depth = 1, bootstrap = False e n_estimator = 9) é: 0.8317757009345794\n",
      "\n",
      "Tempo de execução: 10.082597732543945 segundos\n"
     ]
    }
   ],
   "source": [
    "# iniciando o registro de tempo de execução do código com 10 árvores\n",
    "start_forest = time.time()\n",
    "\n",
    "\n",
    "# criando as variáveis para comparação do melhor modelo no ciclo for\n",
    "best_score_forest = 0\n",
    "best_est = 0\n",
    "best_bootstrap = None\n",
    "best_forest_depth = 0\n",
    "\n",
    "\n",
    "for bootstrap in [True, False]: # verificando qual melhor bootstrap para o modelo\n",
    "    for forest_depth in range(1, 11): # testando melhor hiperparâmetro de profundidade máxima para o modelo\n",
    "        for est in range(1, 11): # testando modelos com hiperparâmetro de quantidade de árvores de 1 a 10\n",
    "            model_forest = RandomForestClassifier(random_state = 14, bootstrap = bootstrap, max_depth = depth, n_estimators = est)\n",
    "            model_forest.fit(features_train, target_train) # treinando o modelo com os dados de treinamento\n",
    "            score_forest = model_forest.score(features_valid, target_valid) # calculando a Acurácia com os dados de validação\n",
    "    \n",
    "     # comparando os modelos para definir qual a melhor quantidade de árvores \n",
    "            if score_forest > best_score_forest:\n",
    "                best_score_forest = score_forest\n",
    "                best_est = est\n",
    "                best_bootstrap = bootstrap\n",
    "                best_forest_depth = forest_depth\n",
    "        \n",
    "print(\"Acurácia do melhor modelo de floresta aleatória (max_depth = {}, bootstrap = {} e n_estimator = {}) é: {}\"\n",
    "      .format(best_forest_depth, best_bootstrap, best_est, best_score_forest))\n",
    "print()\n",
    "\n",
    "\n",
    "# finalizando o registro de tempo de execução do código\n",
    "end_forest = time.time()\n",
    "\n",
    "# imprimindo o tempo de execução em segundos\n",
    "print('Tempo de execução:', end_forest - start_forest, 'segundos')"
   ]
  },
  {
   "cell_type": "markdown",
   "metadata": {},
   "source": [
    "### Regressão Logística: ###"
   ]
  },
  {
   "cell_type": "code",
   "execution_count": 11,
   "metadata": {},
   "outputs": [
    {
     "name": "stdout",
     "output_type": "stream",
     "text": [
      "Acurácia do conjunto de validação é: 0.7133956386292835\n",
      "\n",
      "Tempo de execução: 0.11326837539672852 segundos\n"
     ]
    }
   ],
   "source": [
    "# iniciando o registro de tempo de execução do código\n",
    "start_regression = time.time()\n",
    "\n",
    "# adicionando aleatoriedade aos algorítmos e definindo solucionador como 'liblinear'\n",
    "model_regression = LogisticRegression(random_state = 14, solver = 'liblinear') \n",
    "\n",
    "# treinando o modelo com os dados de treinamento\n",
    "model_regression.fit(features_train, target_train)\n",
    "\n",
    "# calculando a Acurácia com os dados de validação\n",
    "score_valid_regression = model_regression.score(features_valid, target_valid)\n",
    "print(\"Acurácia do conjunto de validação é:\", score_valid_regression) \n",
    "\n",
    "\n",
    "# finalizando o registro de tempo de execução do código\n",
    "end_regression = time.time()\n",
    "\n",
    "# imprimindo o tempo de execução em segundos\n",
    "print()\n",
    "print('Tempo de execução:', end_regression - start_regression, 'segundos')"
   ]
  },
  {
   "cell_type": "markdown",
   "metadata": {},
   "source": [
    "### Comparação dos resultados e definição do melhor modelo: ###"
   ]
  },
  {
   "cell_type": "markdown",
   "metadata": {},
   "source": [
    "Conforme avaliado nos testes realizados, **o melhor modelo para nossos dados foi o de Árvore Decisória**, pois obtivemos uma acurácia satisfatória de 83%, exatamente a mesma obtida com o modelo da Floresta Aleatória, porém, com um tempo de execução menor para a execução do código, sendo este tempo de cerca de 2 segundos, enquanto o da Floresta Aleatória foi de cerca de 7.5 segundos (quase 4 vezes maior).\n",
    "\n",
    "Portanto, **escolhemos o modelo da Árvore Decisória com os hiperparâmetros (max_depth = 10, criterion = gini e min_samples_leaf = 7)  para seguir**, pois obtivemos um resultado satisfatório tanto em relação à acurácia, quanto em relação ao tempo de execução do modelo."
   ]
  },
  {
   "cell_type": "markdown",
   "metadata": {},
   "source": [
    "## TESTE DO MELHOR MODELO: ##"
   ]
  },
  {
   "cell_type": "markdown",
   "metadata": {},
   "source": [
    "Agora que já escolhemos o modelo mais adequado para seguir, vamos treiná-lo usando todo o conjunto de dados de origem e depois vamos testá-lo com os dados separados para teste."
   ]
  },
  {
   "cell_type": "code",
   "execution_count": 12,
   "metadata": {},
   "outputs": [
    {
     "name": "stdout",
     "output_type": "stream",
     "text": [
      "Acurácia do melhor modelo com o conjunto de teste: 0.84472049689441\n"
     ]
    }
   ],
   "source": [
    "# utilizando o modelo selecionado anteriormente com os seus hiperparâmetros\n",
    "best_model = DecisionTreeClassifier(random_state = 14, max_depth = 10, criterion = 'gini', min_samples_leaf = 7)\n",
    "\n",
    "# treinando o modelo com todos os dados de origem disponíveis\n",
    "best_model.fit(features, target) \n",
    "\n",
    "# calculando a Acurácia do melhor modelo com os dados separados para teste\n",
    "best_model_score = best_model.score(features_test, target_test)\n",
    "\n",
    "print(\"Acurácia do melhor modelo com o conjunto de teste:\", best_model_score)"
   ]
  },
  {
   "cell_type": "markdown",
   "metadata": {},
   "source": [
    "**O resultado do teste foi bem satisfatório para nosso modelo, pois alcançamos uma acurácia de 84.5%**"
   ]
  },
  {
   "cell_type": "markdown",
   "metadata": {},
   "source": [
    "## PROVA REAL DO MODELO: ##"
   ]
  },
  {
   "cell_type": "markdown",
   "metadata": {},
   "source": [
    "Nesta etapa iremos tirar a prova real do modelo.\n",
    "\n",
    "**Para realizar esta comparação devemos avaliar dois resultados de acurácia:**\n",
    "\n",
    "* um resultado de acurácia para as predições do modelo com os dados reais;\n",
    "\n",
    "* um resultado de acurácia para as predições do modelo com valores ao acaso.\n",
    "\n",
    "\n",
    "Como temos apenas duas categorias (**classificação binária**) a acurácia do modelo em relação aos dados aleatórios deverá ficar em torno dos 50%."
   ]
  },
  {
   "cell_type": "code",
   "execution_count": 13,
   "metadata": {},
   "outputs": [],
   "source": [
    "# criando uma coluna com dados aleatórios com a mesma quantidade de linhas do nosso DataFrame\n",
    "test_predictions = pd.Series(np.random.randint(2, size = 3214))"
   ]
  },
  {
   "cell_type": "code",
   "execution_count": 14,
   "metadata": {},
   "outputs": [
    {
     "name": "stdout",
     "output_type": "stream",
     "text": [
      "Acuracidade da previsão do modelo com os dados reais é de: 0.8459863098942129\n",
      "\n",
      "Acuracidade da previsão do modelo com os dados aleatórios é de: 0.4940883634100809\n"
     ]
    }
   ],
   "source": [
    "# calculando as predições do modelo final treinado utilizando somente os dados de características\n",
    "best_predictions = best_model.predict(features)\n",
    "\n",
    "# comparando os resultados reais da coluna target com os resultados previstos pelo modelo\n",
    "best_accuracy = accuracy_score(target, best_predictions)\n",
    "\n",
    "# comparando os resultados previstos pelo modelo com a coluna de dados aleatórios\n",
    "test_accuracy = accuracy_score(test_predictions, best_predictions)\n",
    "\n",
    "print(\"Acuracidade da previsão do modelo com os dados reais é de:\", best_accuracy)\n",
    "print()\n",
    "print(\"Acuracidade da previsão do modelo com os dados aleatórios é de:\", test_accuracy)"
   ]
  },
  {
   "cell_type": "markdown",
   "metadata": {},
   "source": [
    "**Conclusão:**\n",
    "\n",
    "Os resultados da prova real foram dentro do esperado, pois podemos observar que o modelo teve uma acurácia de aproximadamente 84.5% com os dados reais, enquanto obteve apenas cerca de 50% de acurácia com os dados aleatórios.\n",
    "\n",
    "Os resultados obtidos nos provam que nosso modelo é eficiente naquilo que se propõe."
   ]
  },
  {
   "cell_type": "markdown",
   "metadata": {},
   "source": [
    "<center>\n",
    "\n",
    "# Renan Rosental de Oliveira #\n"
   ]
  }
 ],
 "metadata": {
  "ExecuteTimeLog": [
   {
    "duration": 318,
    "start_time": "2024-05-16T12:14:44.333Z"
   },
   {
    "duration": 1153,
    "start_time": "2024-05-16T12:14:51.461Z"
   },
   {
    "duration": 18,
    "start_time": "2024-05-16T12:14:52.618Z"
   },
   {
    "duration": 14,
    "start_time": "2024-05-16T12:14:52.640Z"
   },
   {
    "duration": 7,
    "start_time": "2024-05-16T12:14:52.656Z"
   },
   {
    "duration": 8,
    "start_time": "2024-05-16T12:16:15.210Z"
   },
   {
    "duration": 11,
    "start_time": "2024-05-16T12:25:43.456Z"
   },
   {
    "duration": 123,
    "start_time": "2024-05-16T12:41:40.593Z"
   },
   {
    "duration": 131,
    "start_time": "2024-05-16T12:43:18.355Z"
   },
   {
    "duration": 432,
    "start_time": "2024-05-16T12:58:32.185Z"
   },
   {
    "duration": 419,
    "start_time": "2024-05-16T13:05:34.908Z"
   },
   {
    "duration": 19,
    "start_time": "2024-05-16T13:07:42.226Z"
   },
   {
    "duration": 10,
    "start_time": "2024-05-16T13:13:27.599Z"
   },
   {
    "duration": 104,
    "start_time": "2024-05-16T13:13:35.082Z"
   },
   {
    "duration": 1736,
    "start_time": "2024-05-16T13:20:29.889Z"
   },
   {
    "duration": 105,
    "start_time": "2024-05-16T13:20:41.453Z"
   },
   {
    "duration": 32212,
    "start_time": "2024-05-16T13:20:57.235Z"
   },
   {
    "duration": 1748,
    "start_time": "2024-05-16T13:22:08.925Z"
   },
   {
    "duration": 348,
    "start_time": "2024-05-16T13:22:36.502Z"
   },
   {
    "duration": 32534,
    "start_time": "2024-05-16T13:23:16.279Z"
   },
   {
    "duration": 5,
    "start_time": "2024-05-16T13:28:28.388Z"
   },
   {
    "duration": 15,
    "start_time": "2024-05-16T13:28:43.149Z"
   },
   {
    "duration": 32941,
    "start_time": "2024-05-16T13:28:56.629Z"
   },
   {
    "duration": 9,
    "start_time": "2024-05-16T13:30:30.125Z"
   },
   {
    "duration": 9,
    "start_time": "2024-05-16T13:30:58.266Z"
   },
   {
    "duration": 32484,
    "start_time": "2024-05-16T13:31:04.835Z"
   },
   {
    "duration": 33916,
    "start_time": "2024-05-16T13:33:57.177Z"
   },
   {
    "duration": 32615,
    "start_time": "2024-05-16T13:35:07.096Z"
   },
   {
    "duration": 32631,
    "start_time": "2024-05-16T13:36:59.491Z"
   },
   {
    "duration": 32761,
    "start_time": "2024-05-16T13:38:30.798Z"
   },
   {
    "duration": 32713,
    "start_time": "2024-05-16T13:40:36.005Z"
   },
   {
    "duration": 1748,
    "start_time": "2024-05-16T13:41:45.429Z"
   },
   {
    "duration": 1778,
    "start_time": "2024-05-16T13:43:00.727Z"
   },
   {
    "duration": 1729,
    "start_time": "2024-05-16T13:43:22.680Z"
   },
   {
    "duration": 33262,
    "start_time": "2024-05-16T13:44:25.982Z"
   },
   {
    "duration": 1748,
    "start_time": "2024-05-16T13:46:18.787Z"
   },
   {
    "duration": 116,
    "start_time": "2024-05-16T13:46:27.424Z"
   },
   {
    "duration": 106,
    "start_time": "2024-05-16T14:41:29.869Z"
   },
   {
    "duration": 112,
    "start_time": "2024-05-16T14:44:16.871Z"
   },
   {
    "duration": 130,
    "start_time": "2024-05-16T14:45:37.624Z"
   },
   {
    "duration": 113,
    "start_time": "2024-05-16T14:45:41.774Z"
   },
   {
    "duration": 123,
    "start_time": "2024-05-16T14:45:45.140Z"
   },
   {
    "duration": 113,
    "start_time": "2024-05-16T14:45:48.184Z"
   },
   {
    "duration": 1852,
    "start_time": "2024-05-16T14:46:21.685Z"
   },
   {
    "duration": 117,
    "start_time": "2024-05-16T14:46:35.602Z"
   },
   {
    "duration": 412,
    "start_time": "2024-05-16T18:47:13.594Z"
   },
   {
    "duration": 33158,
    "start_time": "2024-05-16T18:47:43.536Z"
   },
   {
    "duration": 429,
    "start_time": "2024-05-16T18:53:31.097Z"
   },
   {
    "duration": 412,
    "start_time": "2024-05-16T18:53:50.061Z"
   },
   {
    "duration": 32955,
    "start_time": "2024-05-16T18:57:38.547Z"
   },
   {
    "duration": 17731,
    "start_time": "2024-05-16T18:59:16.038Z"
   },
   {
    "duration": 33356,
    "start_time": "2024-05-16T19:05:04.572Z"
   },
   {
    "duration": 20,
    "start_time": "2024-05-16T19:14:46.823Z"
   },
   {
    "duration": 20,
    "start_time": "2024-05-16T19:14:57.034Z"
   },
   {
    "duration": 17,
    "start_time": "2024-05-16T19:17:40.140Z"
   },
   {
    "duration": 17,
    "start_time": "2024-05-16T19:20:43.511Z"
   },
   {
    "duration": 24,
    "start_time": "2024-05-16T19:46:31.541Z"
   },
   {
    "duration": 25,
    "start_time": "2024-05-16T19:46:44.574Z"
   },
   {
    "duration": 25,
    "start_time": "2024-05-16T19:47:42.364Z"
   },
   {
    "duration": 14,
    "start_time": "2024-05-16T20:23:03.343Z"
   },
   {
    "duration": 6,
    "start_time": "2024-05-16T20:28:36.271Z"
   },
   {
    "duration": 7,
    "start_time": "2024-05-16T20:36:38.976Z"
   },
   {
    "duration": 9,
    "start_time": "2024-05-16T20:40:57.487Z"
   },
   {
    "duration": 8,
    "start_time": "2024-05-16T20:44:00.515Z"
   },
   {
    "duration": 10,
    "start_time": "2024-05-16T20:47:10.891Z"
   },
   {
    "duration": 24,
    "start_time": "2024-05-16T20:53:18.427Z"
   },
   {
    "duration": 5,
    "start_time": "2024-05-16T20:53:33.759Z"
   },
   {
    "duration": 5,
    "start_time": "2024-05-16T20:53:39.677Z"
   },
   {
    "duration": 6,
    "start_time": "2024-05-16T20:54:17.171Z"
   },
   {
    "duration": 5,
    "start_time": "2024-05-16T20:55:48.692Z"
   },
   {
    "duration": 15,
    "start_time": "2024-05-16T20:56:14.400Z"
   },
   {
    "duration": 13,
    "start_time": "2024-05-16T20:57:27.930Z"
   },
   {
    "duration": 9,
    "start_time": "2024-05-16T20:57:33.247Z"
   },
   {
    "duration": 5,
    "start_time": "2024-05-16T21:07:05.976Z"
   },
   {
    "duration": 10,
    "start_time": "2024-05-16T21:08:52.259Z"
   },
   {
    "duration": 9,
    "start_time": "2024-05-16T21:09:53.762Z"
   },
   {
    "duration": 6,
    "start_time": "2024-05-16T21:10:20.085Z"
   },
   {
    "duration": 9,
    "start_time": "2024-05-16T21:10:26.193Z"
   },
   {
    "duration": 493,
    "start_time": "2024-05-17T12:08:28.654Z"
   },
   {
    "duration": 1371,
    "start_time": "2024-05-17T12:08:38.902Z"
   },
   {
    "duration": 28,
    "start_time": "2024-05-17T12:08:40.276Z"
   },
   {
    "duration": 17,
    "start_time": "2024-05-17T12:08:40.307Z"
   },
   {
    "duration": 437,
    "start_time": "2024-05-17T12:08:40.327Z"
   },
   {
    "duration": 0,
    "start_time": "2024-05-17T12:08:40.769Z"
   },
   {
    "duration": 0,
    "start_time": "2024-05-17T12:08:40.771Z"
   },
   {
    "duration": 0,
    "start_time": "2024-05-17T12:08:40.773Z"
   },
   {
    "duration": 0,
    "start_time": "2024-05-17T12:08:40.777Z"
   },
   {
    "duration": 0,
    "start_time": "2024-05-17T12:08:40.780Z"
   },
   {
    "duration": 0,
    "start_time": "2024-05-17T12:08:40.782Z"
   },
   {
    "duration": 0,
    "start_time": "2024-05-17T12:08:40.784Z"
   },
   {
    "duration": 34,
    "start_time": "2024-05-17T12:16:24.986Z"
   },
   {
    "duration": 32,
    "start_time": "2024-05-17T12:23:50.144Z"
   },
   {
    "duration": 28,
    "start_time": "2024-05-17T12:32:02.242Z"
   },
   {
    "duration": 32,
    "start_time": "2024-05-17T12:40:01.631Z"
   },
   {
    "duration": 35,
    "start_time": "2024-05-17T12:41:10.250Z"
   },
   {
    "duration": 27,
    "start_time": "2024-05-17T12:41:18.466Z"
   },
   {
    "duration": 38,
    "start_time": "2024-05-17T12:54:26.712Z"
   },
   {
    "duration": 15,
    "start_time": "2024-05-17T12:55:38.638Z"
   },
   {
    "duration": 15,
    "start_time": "2024-05-17T12:55:55.838Z"
   },
   {
    "duration": 20,
    "start_time": "2024-05-17T12:59:45.893Z"
   },
   {
    "duration": 14,
    "start_time": "2024-05-17T13:08:08.406Z"
   },
   {
    "duration": 26,
    "start_time": "2024-05-17T13:10:26.811Z"
   },
   {
    "duration": 1340,
    "start_time": "2024-05-17T13:13:19.927Z"
   },
   {
    "duration": 26,
    "start_time": "2024-05-17T13:13:21.273Z"
   },
   {
    "duration": 30,
    "start_time": "2024-05-17T13:13:21.302Z"
   },
   {
    "duration": 18,
    "start_time": "2024-05-17T13:13:21.344Z"
   },
   {
    "duration": 160,
    "start_time": "2024-05-17T13:13:21.368Z"
   },
   {
    "duration": 404,
    "start_time": "2024-05-17T13:13:21.532Z"
   },
   {
    "duration": 28661,
    "start_time": "2024-05-17T13:13:21.942Z"
   },
   {
    "duration": 29,
    "start_time": "2024-05-17T13:13:50.607Z"
   },
   {
    "duration": 28,
    "start_time": "2024-05-17T13:13:50.639Z"
   },
   {
    "duration": 6,
    "start_time": "2024-05-17T13:13:50.670Z"
   },
   {
    "duration": 47,
    "start_time": "2024-05-17T13:13:50.682Z"
   },
   {
    "duration": 11,
    "start_time": "2024-05-17T13:26:03.046Z"
   },
   {
    "duration": 9,
    "start_time": "2024-05-17T13:26:21.173Z"
   },
   {
    "duration": 10,
    "start_time": "2024-05-17T13:26:51.247Z"
   },
   {
    "duration": 781,
    "start_time": "2024-05-17T13:27:01.398Z"
   },
   {
    "duration": 35,
    "start_time": "2024-05-17T13:27:33.155Z"
   },
   {
    "duration": 34,
    "start_time": "2024-05-17T13:27:48.271Z"
   },
   {
    "duration": 35,
    "start_time": "2024-05-17T13:27:54.353Z"
   },
   {
    "duration": 278,
    "start_time": "2024-05-17T13:27:59.503Z"
   },
   {
    "duration": 203,
    "start_time": "2024-05-17T13:28:28.743Z"
   },
   {
    "duration": 227,
    "start_time": "2024-05-17T13:30:17.517Z"
   },
   {
    "duration": 209,
    "start_time": "2024-05-17T13:30:53.095Z"
   },
   {
    "duration": 218,
    "start_time": "2024-05-17T13:31:01.822Z"
   },
   {
    "duration": 128,
    "start_time": "2024-05-17T13:43:46.588Z"
   },
   {
    "duration": 627,
    "start_time": "2024-05-17T13:44:34.453Z"
   },
   {
    "duration": 431,
    "start_time": "2024-05-17T13:46:07.268Z"
   },
   {
    "duration": 418,
    "start_time": "2024-05-17T13:47:10.483Z"
   },
   {
    "duration": 14,
    "start_time": "2024-05-17T13:48:25.438Z"
   },
   {
    "duration": 406,
    "start_time": "2024-05-17T13:48:45.939Z"
   },
   {
    "duration": 12,
    "start_time": "2024-05-17T13:50:12.404Z"
   },
   {
    "duration": 466,
    "start_time": "2024-05-17T13:50:23.685Z"
   },
   {
    "duration": 820,
    "start_time": "2024-05-17T13:50:43.291Z"
   },
   {
    "duration": 2015,
    "start_time": "2024-05-17T13:51:04.219Z"
   },
   {
    "duration": 2007,
    "start_time": "2024-05-17T13:51:21.519Z"
   },
   {
    "duration": 2034,
    "start_time": "2024-05-17T13:52:36.059Z"
   },
   {
    "duration": 1996,
    "start_time": "2024-05-17T13:53:52.807Z"
   },
   {
    "duration": 2012,
    "start_time": "2024-05-17T13:54:57.606Z"
   },
   {
    "duration": 1947,
    "start_time": "2024-05-17T13:55:31.987Z"
   },
   {
    "duration": 2035,
    "start_time": "2024-05-17T13:58:58.168Z"
   },
   {
    "duration": 2031,
    "start_time": "2024-05-17T14:01:36.537Z"
   },
   {
    "duration": 2019,
    "start_time": "2024-05-17T14:02:59.337Z"
   },
   {
    "duration": 8,
    "start_time": "2024-05-17T15:16:49.704Z"
   },
   {
    "duration": 28040,
    "start_time": "2024-05-17T15:16:56.248Z"
   },
   {
    "duration": 201,
    "start_time": "2024-05-17T15:19:37.808Z"
   },
   {
    "duration": 42,
    "start_time": "2024-05-17T15:19:53.901Z"
   },
   {
    "duration": 31,
    "start_time": "2024-05-17T15:20:07.159Z"
   },
   {
    "duration": 42,
    "start_time": "2024-05-17T15:20:33.175Z"
   },
   {
    "duration": 9,
    "start_time": "2024-05-17T15:21:44.198Z"
   },
   {
    "duration": 7,
    "start_time": "2024-05-17T15:22:10.601Z"
   },
   {
    "duration": 9,
    "start_time": "2024-05-17T15:22:49.012Z"
   },
   {
    "duration": 36,
    "start_time": "2024-05-17T16:26:15.087Z"
   },
   {
    "duration": 5021,
    "start_time": "2024-05-17T16:26:27.192Z"
   },
   {
    "duration": 4987,
    "start_time": "2024-05-17T16:27:41.920Z"
   },
   {
    "duration": 5905,
    "start_time": "2024-05-17T16:29:35.391Z"
   },
   {
    "duration": 11,
    "start_time": "2024-05-17T16:32:13.709Z"
   },
   {
    "duration": 10,
    "start_time": "2024-05-17T16:32:36.159Z"
   },
   {
    "duration": 6072,
    "start_time": "2024-05-17T16:33:34.388Z"
   },
   {
    "duration": 10,
    "start_time": "2024-05-17T16:34:08.705Z"
   },
   {
    "duration": 6136,
    "start_time": "2024-05-17T16:34:45.655Z"
   },
   {
    "duration": 6550,
    "start_time": "2024-05-17T16:35:24.766Z"
   },
   {
    "duration": 6762,
    "start_time": "2024-05-17T16:36:14.800Z"
   },
   {
    "duration": 1963,
    "start_time": "2024-05-17T16:36:33.893Z"
   },
   {
    "duration": 6742,
    "start_time": "2024-05-17T16:37:15.502Z"
   },
   {
    "duration": 67405,
    "start_time": "2024-05-17T16:38:06.363Z"
   },
   {
    "duration": 6554,
    "start_time": "2024-05-17T16:40:25.299Z"
   },
   {
    "duration": 73421,
    "start_time": "2024-05-17T16:41:35.631Z"
   },
   {
    "duration": 6564,
    "start_time": "2024-05-17T16:49:29.231Z"
   },
   {
    "duration": 2235,
    "start_time": "2024-05-17T16:51:06.777Z"
   },
   {
    "duration": 2028,
    "start_time": "2024-05-17T16:51:29.960Z"
   },
   {
    "duration": 6783,
    "start_time": "2024-05-17T16:52:14.392Z"
   },
   {
    "duration": 0,
    "start_time": "2024-05-17T17:17:40.227Z"
   },
   {
    "duration": 6715,
    "start_time": "2024-05-17T17:17:49.644Z"
   },
   {
    "duration": 82484,
    "start_time": "2024-05-17T17:18:38.090Z"
   },
   {
    "duration": 6659,
    "start_time": "2024-05-17T17:20:07.205Z"
   },
   {
    "duration": 66427,
    "start_time": "2024-05-17T17:20:22.204Z"
   },
   {
    "duration": 6487,
    "start_time": "2024-05-17T17:21:40.835Z"
   },
   {
    "duration": 18627,
    "start_time": "2024-05-17T17:22:21.692Z"
   },
   {
    "duration": 1961,
    "start_time": "2024-05-17T17:23:05.555Z"
   },
   {
    "duration": 8,
    "start_time": "2024-05-17T17:27:33.181Z"
   },
   {
    "duration": 28,
    "start_time": "2024-05-17T17:27:47.744Z"
   },
   {
    "duration": 26,
    "start_time": "2024-05-17T17:27:56.924Z"
   },
   {
    "duration": 26,
    "start_time": "2024-05-17T17:28:52.388Z"
   },
   {
    "duration": 22,
    "start_time": "2024-05-17T17:30:15.116Z"
   },
   {
    "duration": 10,
    "start_time": "2024-05-17T17:34:03.072Z"
   },
   {
    "duration": 10,
    "start_time": "2024-05-17T17:34:50.269Z"
   },
   {
    "duration": 10,
    "start_time": "2024-05-17T17:34:53.375Z"
   },
   {
    "duration": 10,
    "start_time": "2024-05-17T17:34:55.634Z"
   },
   {
    "duration": 10,
    "start_time": "2024-05-17T17:34:57.701Z"
   },
   {
    "duration": 19,
    "start_time": "2024-05-17T17:36:30.813Z"
   },
   {
    "duration": 24,
    "start_time": "2024-05-17T17:36:39.822Z"
   },
   {
    "duration": 25,
    "start_time": "2024-05-17T17:39:40.501Z"
   },
   {
    "duration": 1295,
    "start_time": "2024-05-17T17:48:23.324Z"
   },
   {
    "duration": 20,
    "start_time": "2024-05-17T17:48:24.623Z"
   },
   {
    "duration": 16,
    "start_time": "2024-05-17T17:48:24.646Z"
   },
   {
    "duration": 14,
    "start_time": "2024-05-17T17:48:24.665Z"
   },
   {
    "duration": 622,
    "start_time": "2024-05-17T17:48:24.684Z"
   },
   {
    "duration": 0,
    "start_time": "2024-05-17T17:48:25.310Z"
   },
   {
    "duration": 0,
    "start_time": "2024-05-17T17:48:25.312Z"
   },
   {
    "duration": 0,
    "start_time": "2024-05-17T17:48:25.314Z"
   },
   {
    "duration": 1,
    "start_time": "2024-05-17T17:48:25.315Z"
   },
   {
    "duration": 0,
    "start_time": "2024-05-17T17:48:25.327Z"
   },
   {
    "duration": 2030,
    "start_time": "2024-05-17T17:50:34.186Z"
   },
   {
    "duration": 1251,
    "start_time": "2024-05-17T17:50:46.860Z"
   },
   {
    "duration": 20,
    "start_time": "2024-05-17T17:50:48.125Z"
   },
   {
    "duration": 18,
    "start_time": "2024-05-17T17:50:48.148Z"
   },
   {
    "duration": 14,
    "start_time": "2024-05-17T17:50:48.171Z"
   },
   {
    "duration": 2076,
    "start_time": "2024-05-17T17:50:48.190Z"
   },
   {
    "duration": 6730,
    "start_time": "2024-05-17T17:50:50.270Z"
   },
   {
    "duration": 27,
    "start_time": "2024-05-17T17:50:57.004Z"
   },
   {
    "duration": 24,
    "start_time": "2024-05-17T17:50:57.034Z"
   },
   {
    "duration": 5,
    "start_time": "2024-05-17T17:50:57.062Z"
   },
   {
    "duration": 56,
    "start_time": "2024-05-17T17:50:57.071Z"
   },
   {
    "duration": 12,
    "start_time": "2024-05-17T17:52:04.259Z"
   },
   {
    "duration": 9,
    "start_time": "2024-05-17T17:52:06.398Z"
   },
   {
    "duration": 6606,
    "start_time": "2024-05-17T17:52:47.141Z"
   },
   {
    "duration": 1299,
    "start_time": "2024-05-17T17:53:03.631Z"
   },
   {
    "duration": 18,
    "start_time": "2024-05-17T17:53:04.935Z"
   },
   {
    "duration": 16,
    "start_time": "2024-05-17T17:53:04.957Z"
   },
   {
    "duration": 14,
    "start_time": "2024-05-17T17:53:04.977Z"
   },
   {
    "duration": 2025,
    "start_time": "2024-05-17T17:53:05.027Z"
   },
   {
    "duration": 6753,
    "start_time": "2024-05-17T17:53:07.055Z"
   },
   {
    "duration": 27,
    "start_time": "2024-05-17T17:53:13.811Z"
   },
   {
    "duration": 24,
    "start_time": "2024-05-17T17:53:13.842Z"
   },
   {
    "duration": 5,
    "start_time": "2024-05-17T17:53:13.869Z"
   },
   {
    "duration": 49,
    "start_time": "2024-05-17T17:53:13.879Z"
   },
   {
    "duration": 1304,
    "start_time": "2024-05-20T00:15:27.910Z"
   },
   {
    "duration": 28,
    "start_time": "2024-05-20T00:15:29.219Z"
   },
   {
    "duration": 18,
    "start_time": "2024-05-20T00:15:29.253Z"
   },
   {
    "duration": 33,
    "start_time": "2024-05-20T00:15:29.276Z"
   },
   {
    "duration": 2293,
    "start_time": "2024-05-20T00:15:29.312Z"
   },
   {
    "duration": 7604,
    "start_time": "2024-05-20T00:15:31.608Z"
   },
   {
    "duration": 22,
    "start_time": "2024-05-20T00:15:39.215Z"
   },
   {
    "duration": 25,
    "start_time": "2024-05-20T00:15:39.240Z"
   },
   {
    "duration": 4,
    "start_time": "2024-05-20T00:15:39.301Z"
   },
   {
    "duration": 11,
    "start_time": "2024-05-20T00:15:39.310Z"
   },
   {
    "duration": 23,
    "start_time": "2024-05-20T00:23:50.721Z"
   },
   {
    "duration": 4,
    "start_time": "2024-05-20T00:24:21.495Z"
   },
   {
    "duration": 13,
    "start_time": "2024-05-20T00:24:25.767Z"
   },
   {
    "duration": 9,
    "start_time": "2024-05-20T00:25:15.878Z"
   },
   {
    "duration": 10,
    "start_time": "2024-05-20T00:25:19.034Z"
   },
   {
    "duration": 1235,
    "start_time": "2024-05-20T00:25:37.733Z"
   },
   {
    "duration": 18,
    "start_time": "2024-05-20T00:25:38.974Z"
   },
   {
    "duration": 19,
    "start_time": "2024-05-20T00:25:38.995Z"
   },
   {
    "duration": 14,
    "start_time": "2024-05-20T00:25:39.017Z"
   },
   {
    "duration": 2276,
    "start_time": "2024-05-20T00:25:39.035Z"
   },
   {
    "duration": 7630,
    "start_time": "2024-05-20T00:25:41.315Z"
   },
   {
    "duration": 20,
    "start_time": "2024-05-20T00:25:48.948Z"
   },
   {
    "duration": 45,
    "start_time": "2024-05-20T00:25:48.971Z"
   },
   {
    "duration": 5,
    "start_time": "2024-05-20T00:25:49.018Z"
   },
   {
    "duration": 9,
    "start_time": "2024-05-20T00:25:49.026Z"
   },
   {
    "duration": 12,
    "start_time": "2024-05-20T00:30:04.949Z"
   },
   {
    "duration": 2268,
    "start_time": "2024-05-20T00:34:57.666Z"
   },
   {
    "duration": 7601,
    "start_time": "2024-05-20T00:36:00.406Z"
   },
   {
    "duration": 19,
    "start_time": "2024-05-20T00:36:40.645Z"
   }
  ],
  "kernelspec": {
   "display_name": "Python 3 (ipykernel)",
   "language": "python",
   "name": "python3"
  },
  "language_info": {
   "codemirror_mode": {
    "name": "ipython",
    "version": 3
   },
   "file_extension": ".py",
   "mimetype": "text/x-python",
   "name": "python",
   "nbconvert_exporter": "python",
   "pygments_lexer": "ipython3",
   "version": "3.12.4"
  },
  "toc": {
   "base_numbering": 1,
   "nav_menu": {},
   "number_sections": true,
   "sideBar": true,
   "skip_h1_title": true,
   "title_cell": "Table of Contents",
   "title_sidebar": "Contents",
   "toc_cell": false,
   "toc_position": {},
   "toc_section_display": true,
   "toc_window_display": false
  }
 },
 "nbformat": 4,
 "nbformat_minor": 2
}
